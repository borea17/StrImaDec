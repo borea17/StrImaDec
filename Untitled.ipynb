{
 "cells": [
  {
   "cell_type": "code",
   "execution_count": 51,
   "metadata": {},
   "outputs": [],
   "source": [
    "import torch\n",
    "import torch.nn as nn\n",
    "import torch.distributions as dists\n",
    "import torch.nn.functional as F\n",
    "import numpy as np\n",
    "import matplotlib.pyplot as plt"
   ]
  },
  {
   "cell_type": "code",
   "execution_count": 11,
   "metadata": {},
   "outputs": [],
   "source": [
    "batch_size = 10\n",
    "L = 3\n",
    "x_dim = 10\n",
    "hidden_dim = 20\n",
    "\n",
    "\n",
    "\n",
    "\n"
   ]
  },
  {
   "cell_type": "code",
   "execution_count": 28,
   "metadata": {},
   "outputs": [],
   "source": [
    "def loss_function(sampled_class, target):\n",
    "    \"\"\"\n",
    "        computes the MSE loss between the sampled class \n",
    "        and the associated true class\n",
    "    \n",
    "    Args:\n",
    "        sampled_class (tensor): sampled classes as one-hot vectors [batch x L]\n",
    "        target (tensor): target tensor [batch x L]\n",
    "    \n",
    "    Returns:\n",
    "        MSE (tensor): MSE loss [batch]\n",
    "    \"\"\"\n",
    "    return ( (sampled_class - target) ** 2 ).mean(1)"
   ]
  },
  {
   "cell_type": "code",
   "execution_count": 33,
   "metadata": {},
   "outputs": [],
   "source": [
    "def REINFORCE(probs, sampled_class_ind, loss, **kwargs):\n",
    "    \"\"\"\n",
    "        computes the the loss such that a REINFORCE gradient estimator\n",
    "        can be computed on the backward pass\n",
    "    \n",
    "    Args:\n",
    "        probs (tensor): categorical probabilities (output of encoder) [batch, L]\n",
    "        sampled_class_ind (tensor): associated samples from Categorical dist [batch]\n",
    "        loss (tensor): loss function that is applied to \n",
    "    \"\"\"\n",
    "    categorical_dist = dists.Categorical(probs=probs)\n",
    "    estimator = loss.detach() * categorical_dist.log_prob(sampled_class_ind)\n",
    "    return estimator.mean()\n",
    "\n",
    "def CONCRETE(probs, **kwargs):\n",
    "    pass\n",
    "\n",
    "def NVIL(probs, sampled_class, loss, **kwargs):\n",
    "    pass"
   ]
  },
  {
   "cell_type": "code",
   "execution_count": 118,
   "metadata": {},
   "outputs": [
    {
     "name": "stdout",
     "output_type": "stream",
     "text": [
      "torch.Size([1, 10])\n"
     ]
    }
   ],
   "source": [
    "def run_experiment(params):\n",
    "    torch.manual_seed(params[\"SEED\"])\n",
    "    \n",
    "    target = torch.tensor(params[\"target\"]).repeat(params[\"batch_size\"], 1)\n",
    "\n",
    "    network_params = params[\"encoder_network\"]\n",
    "    encoder_net = nn.Sequential(\n",
    "        nn.Linear(network_params[\"x_dim\"], network_params[\"hidden_dim\"]),\n",
    "        nn.ReLU(),\n",
    "        nn.Linear(network_params[\"hidden_dim\"], params[\"num_classes\"]),\n",
    "        nn.Softmax(dim=1)\n",
    "    )\n",
    "    X = torch.rand(params[\"batch_size\"], network_params[\"x_dim\"])\n",
    "    \n",
    "    optimizer = torch.optim.Adam(encoder_net.parameters(), lr=params[\"lr\"])\n",
    "    \n",
    "    losses, vars_grad = [], []\n",
    "    for epoch in range(params[\"num_epochs\"]):\n",
    "        optimizer.zero_grad()\n",
    "        \n",
    "        # get probability vector of categorical distribution\n",
    "        probs = encoder_net.forward(X)\n",
    "        # sample class variable (index) from categorical distribution\n",
    "        sampled_class_inds = dists.Categorical(probs=probs).sample()\n",
    "        # cast to one-hot vectors\n",
    "        sampled_class = F.one_hot(sampled_class_inds, \n",
    "                                  num_classes=params[\"num_classes\"]).type_as(probs)\n",
    "        # compute loss\n",
    "        loss = loss_function(sampled_class, target)\n",
    "        # compute estimator through which we can backpropagate\n",
    "        estimator = REINFORCE(probs, sampled_class_inds, loss)\n",
    "        estimator.backward()\n",
    "        \n",
    "        optimizer.step()\n",
    "        \n",
    "        ################## track some metrics ##################\n",
    "        # expected loss\n",
    "        probs_mean = probs.mean(0)\n",
    "        expected_loss = 0\n",
    "        for class_ind in range(params[\"num_classes\"]):\n",
    "            one_hot_class = torch.eye(params[\"num_classes\"])[class_ind].unsqueeze(0)\n",
    "            cur_loss = loss_func(one_hot_class, target).mean()\n",
    "            expected_loss += probs_mean[class_ind]*cur_loss\n",
    "        losses.append(expected_loss.mean().item())\n",
    "        # variance of gradient estimator (upsample for useful var estimator)\n",
    "        X_ups = X.repeat(int(1000/params[\"batch_size\"]), 1)\n",
    "        target_ups = target.repeat(int(1000/params[\"batch_size\"]), 1)\n",
    "        probs_ups = encoder_net.forward(X_ups)\n",
    "        # sample class variable (index) from categorical distribution\n",
    "        sampled_class_inds_ups = dists.Categorical(probs=probs_ups).sample()\n",
    "        # cast to one-hot vectors\n",
    "        sampled_class_ups = F.one_hot(sampled_class_inds_ups, \n",
    "                                      num_classes=params[\"num_classes\"]).type_as(probs_ups)\n",
    "        # compute loss\n",
    "        loss_ups = loss_function(sampled_class_ups, target_ups)\n",
    "        # compute estimator through which we can backpropagate\n",
    "        estimator_ups = REINFORCE(probs_ups, sampled_class_inds_ups, loss_ups)\n",
    "        estimator_ups.backward()\n",
    "        print(encoder_net[0].weight.grad.shape)\n",
    "        # take variance for each parameter in encoder_network and build avg \n",
    "        #g_REINFORCE = X_ups.grad\n",
    "        #vars_grad.append(g_REINFORCE.var().item())\n",
    "        \n",
    "    results = {\n",
    "        \"losses\": losses\n",
    "    }\n",
    "    return results\n",
    "\n",
    "\n",
    "target = torch.zeros(batch_size, L)\n",
    "target[:, 0] = 0.45\n",
    "params = {\n",
    "    \"encoder_network\" : {\n",
    "        \"x_dim\" : 10,\n",
    "        \"hidden_dim\": 1,\n",
    "    },\n",
    "    \"num_epochs\": 1, #5000,\n",
    "    \"lr\": 0.01,\n",
    "    \"batch_size\": 100,\n",
    "    \"num_classes\": 3,\n",
    "    \"target\": [0.34, 0.33, 0.33],\n",
    "    \"SEED\": 1\n",
    "}\n",
    "\n",
    "results = run_experiment(params)"
   ]
  },
  {
   "cell_type": "code",
   "execution_count": 108,
   "metadata": {},
   "outputs": [
    {
     "data": {
      "image/png": "[encoded data removed]",
      "text/plain": [
       "<Figure size 936x360 with 1 Axes>"
      ]
     },
     "metadata": {
      "needs_background": "light"
     },
     "output_type": "display_data"
    }
   ],
   "source": [
    "def plot_loss(results, params):\n",
    "    # compute optimal loss\n",
    "    target = torch.tensor(params[\"target\"]).unsqueeze(0)\n",
    "    possible_losses = torch.zeros(params[\"num_classes\"])\n",
    "    for class_ind in range(params[\"num_classes\"]):\n",
    "        one_hot_class = torch.eye(params[\"num_classes\"])[class_ind].unsqueeze(0)\n",
    "        possible_losses[class_ind] = loss_func(one_hot_class, target)\n",
    "    optimal_loss = min(possible_losses)\n",
    "    # start plot\n",
    "    fig = plt.figure(figsize=(13, 5))\n",
    "    \n",
    "    plt.subplot(1, 2, 1)\n",
    "    losses = results[\"losses\"]\n",
    "    epochs = np.arange(len(losses))\n",
    "    plt.plot(epochs, losses, label=\"REINFORCE\")\n",
    "    plt.plot([epochs[0], epochs[-1]], [optimal_loss, optimal_loss], label=\"optimal\", color=\"gray\")\n",
    "    plt.ylabel(\"Loss\")\n",
    "    plt.xlabel(\"Steps\")\n",
    "    plt.legend()\n",
    "    return\n",
    "\n",
    "\n",
    "plot_loss(results, params)"
   ]
  }
 ],
 "metadata": {
  "kernelspec": {
   "display_name": "Python 3",
   "language": "python",
   "name": "python3"
  },
  "language_info": {
   "codemirror_mode": {
    "name": "ipython",
    "version": 3
   },
   "file_extension": ".py",
   "mimetype": "text/x-python",
   "name": "python",
   "nbconvert_exporter": "python",
   "pygments_lexer": "ipython3",
   "version": "3.8.5"
  }
 },
 "nbformat": 4,
 "nbformat_minor": 4
}
